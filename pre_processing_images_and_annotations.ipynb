{
  "nbformat": 4,
  "nbformat_minor": 0,
  "metadata": {
    "kernelspec": {
      "display_name": "Python 3",
      "language": "python",
      "name": "python3"
    },
    "language_info": {
      "codemirror_mode": {
        "name": "ipython",
        "version": 3
      },
      "file_extension": ".py",
      "mimetype": "text/x-python",
      "name": "python",
      "nbconvert_exporter": "python",
      "pygments_lexer": "ipython3",
      "version": "3.6.1"
    },
    "colab": {
      "name": "pre_processing-images_and_annotations.ipynb",
      "provenance": []
    }
  },
  "cells": [
    {
      "cell_type": "markdown",
      "metadata": {
        "id": "JStD3t6ufZas",
        "colab_type": "text"
      },
      "source": [
        "# Imports"
      ]
    },
    {
      "cell_type": "code",
      "metadata": {
        "id": "n4S_oofkAV4L",
        "colab_type": "code",
        "colab": {}
      },
      "source": [
        "import torch"
      ],
      "execution_count": 0,
      "outputs": []
    },
    {
      "cell_type": "code",
      "metadata": {
        "id": "HHo_JLmSAV4O",
        "colab_type": "code",
        "colab": {}
      },
      "source": [
        "from scipy import io\n",
        "from PIL import Image\n",
        "import numpy as np\n",
        "import os"
      ],
      "execution_count": 0,
      "outputs": []
    },
    {
      "cell_type": "code",
      "metadata": {
        "id": "RSLrzDkYfiVZ",
        "colab_type": "code",
        "colab": {}
      },
      "source": [
        "# change path to the PASCAL folder here\n",
        "PATH = 'PASCAL3D+_release1.1/'\n",
        "\n",
        "# change path to where you want the resulting numpy arrays to be saved\n",
        "RESULT_PATH = 'Data/numpy_data/'"
      ],
      "execution_count": 0,
      "outputs": []
    },
    {
      "cell_type": "markdown",
      "metadata": {
        "id": "GhBQ4kiXguKd",
        "colab_type": "text"
      },
      "source": [
        "# helper functions \n",
        "- get object ids within an image\n",
        "- get true rotations\n",
        "- get bounding box\n"
      ]
    },
    {
      "cell_type": "code",
      "metadata": {
        "id": "pRLcQaxkAV4R",
        "colab_type": "code",
        "colab": {}
      },
      "source": [
        "def check_image_usable_and_get_objectid_from_annotations(annotations_mat, cls):\n",
        "  infos = []\n",
        "\n",
        "  objectid = -1\n",
        "  for i in range(annotations_mat['record'][0][0]['objects'].shape[1]):\n",
        "    print(i)\n",
        "    if annotations_mat['record'][0][0]['objects'][0][i]['class'][0] == cls:\n",
        "\n",
        "      objectid = i\n",
        "      shape_idx = annotations_mat['record'][0][0]['objects'][0][0]['cad_index'][0][0] - 1\n",
        "      occluded = 0\n",
        "      if annotations_mat['record'][0][0]['objects'][0][objectid]['occluded'][0][0] == 1:\n",
        "        print('occluded')\n",
        "        occluded = 1\n",
        "      truncated = 0\n",
        "      if annotations_mat['record'][0][0]['objects'][0][objectid]['truncated'][0][0] == 1:\n",
        "        print('truncated')\n",
        "        truncated = 1\n",
        "      infos.append((objectid, shape_idx, occluded, truncated))\n",
        "\n",
        "  return infos\n",
        "\n",
        "\n",
        "def create_rotation_from_aet(rot_z, rot_x, rot_y):\n",
        "  #from azimuth, elevation, tilt\n",
        "\n",
        "  rot_matrix_z = np.array([[np.cos(rot_z), -np.sin(rot_z), 0.],\n",
        "                                      [np.sin(rot_z), np.cos(rot_z), 0.],\n",
        "                                      [0., 0., 1.]])\n",
        "\n",
        "  rot_matrix_x = np.array([[1., 0., 0.],\n",
        "                                      [0., np.cos(rot_x), -np.sin(rot_x)],\n",
        "                                      [0., np.sin(rot_x), np.cos(rot_x)]])\n",
        "\n",
        "  rot_matrix_y = np.array([[np.cos(rot_y), 0., -np.sin(rot_y)],\n",
        "                           [0.,1.,0.],\n",
        "                           [np.sin(rot_y), 0., np.cos(rot_y)]])\n",
        "\n",
        "  return np.matmul(np.matmul(rot_matrix_z, rot_matrix_x), rot_matrix_y)\n",
        "\n",
        "\n",
        "def get_true_rot_from_annotations(annotations_mat, objectid):\n",
        "  annotations = annotations_mat['record'][0][0]['objects'][0][objectid]['viewpoint'][0][0]\n",
        "\n",
        "  rot = create_rotation_from_aet(np.deg2rad(annotations['azimuth'][0][0]), -np.deg2rad(annotations['elevation'][0][0]), -np.deg2rad(annotations['theta'][0][0]))\n",
        "  return torch.FloatTensor(rot)\n",
        "\n",
        "def get_bbox_from_annotations(annotations_mat, objectid):\n",
        "  bbox = annotations_mat['record'][0][0]['objects'][0][objectid]['bbox'][0]\n",
        "  return np.array(bbox, dtype=np.float16)"
      ],
      "execution_count": 0,
      "outputs": []
    },
    {
      "cell_type": "markdown",
      "metadata": {
        "id": "oKFDSNcHhZkG",
        "colab_type": "text"
      },
      "source": [
        "# main bit\n",
        "load image sets\n",
        "and from every id, find all objects in an image& save the corresponding info in numpy arrays"
      ]
    },
    {
      "cell_type": "code",
      "metadata": {
        "id": "m4ownXQEAV4X",
        "colab_type": "code",
        "colab": {}
      },
      "source": [
        "classes = ['aeroplane', 'bicycle', 'boat', 'bottle', 'bus', 'car', 'chair', 'diningtable', 'motorbike', 'sofa', 'train', 'tvmonitor']\n",
        "\n",
        "# make directories:\n",
        "for cls in classes:\n",
        "  mypath = RESULT_PATH + 'Train/' + cls\n",
        "  !mkdir $mypath\n",
        "  mypath = RESULT_PATH + 'Test/' + cls\n",
        "  !mkdir $mypath\n",
        "\n",
        "\n",
        "shapes_per_class = {'aeroplane':8,\n",
        "                    'bicycle':6,\n",
        "                    'boat':6,\n",
        "                    'bottle':8,\n",
        "                    'bus':6,\n",
        "                    'car':10,\n",
        "                    'chair':10,\n",
        "                    'diningtable':6,\n",
        "                    'motorbike':5,\n",
        "                    'sofa':6,\n",
        "                    'train':4,\n",
        "                    'tvmonitor':4}\n",
        "\n",
        "\n",
        "for split in ['train', 'val']:\n",
        "\n",
        "  for cls in classes:\n",
        "      file_val = open(PATH + \"Image_sets/{}_imagenet_{}.txt\".format(cls, split), 'r')\n",
        "      all_im_ids = file_val.read().split()\n",
        "      print(len(all_im_ids))\n",
        "      print(all_im_ids[1])\n",
        "\n",
        "      images = []\n",
        "      valid_im_ids = []\n",
        "      shape_idxs = []\n",
        "      true_rots = []\n",
        "      bboxes = []\n",
        "      occludeds = []\n",
        "      truncateds = []\n",
        "\n",
        "      i = 0\n",
        "      for j in range(0, len(all_im_ids)):\n",
        "        im_id = all_im_ids[j]\n",
        "        annotations_mat = io.loadmat(PATH + 'Annotations/' + cls + '_imagenet/' +im_id+ \".mat\")\n",
        "        infos = check_image_usable_and_get_objectid_from_annotations(annotations_mat, cls)\n",
        "        for (index, shape, occluded, truncated) in infos:\n",
        "          if index != -1:\n",
        "            with Image.open('Images/' + cls + '_imagenet/' + im_id + '.JPEG') as im:\n",
        "              images.append(np.array(im))\n",
        "            if shape >= shapes_per_class[cls]:\n",
        "              print('ERROR..', im_id)\n",
        "\n",
        "            shape_idxs.append(shape)\n",
        "            valid_im_ids.append(im_id)\n",
        "            true_rots.append(get_true_rot_from_annotations(annotations_mat, index))\n",
        "            bboxes.append(get_bbox_from_annotations(annotations_mat, index))\n",
        "            occludeds.append(occluded)\n",
        "            truncateds.append(truncated)\n",
        "          i += 1\n",
        "\n",
        "\n",
        "      print(len(valid_im_ids))\n",
        "      print(len(shape_idxs))\n",
        "      print(len(true_rots))\n",
        "      print(len(bboxes))\n",
        "      print(len(occludeds))\n",
        "      print(len(truncateds))\n",
        "      print('\\n\\n')\n",
        "      \n",
        "      \n",
        "      valid_im_ids = np.array(valid_im_ids)\n",
        "      shape_idxs = np.array(shape_idxs)\n",
        "      true_rots = np.array([np.array(x) for x in true_rots])\n",
        "      bboxes = np.array(bboxes)\n",
        "      images = np.array(images)\n",
        "      occludeds = np.array(occludeds)\n",
        "      truncateds = np.array(truncateds)\n",
        "      \n",
        "      print('image dim smaller than 3:')\n",
        "      i = 0\n",
        "      while i < len(images):\n",
        "        im = images[i]\n",
        "        if im.ndim < 3:\n",
        "          print(i)\n",
        "          images = np.delete(images, i, 0)\n",
        "          valid_im_ids = np.delete(valid_im_ids, i, 0)\n",
        "          true_rots = np.delete(true_rots, i, 0)\n",
        "          shape_idxs = np.delete(shape_idxs, i, 0)\n",
        "          bboxes = np.delete(bboxes, i, 0)\n",
        "          occludeds = np.delete(occludeds, i, 0)\n",
        "          truncateds = np.delete(truncateds, i, 0)\n",
        "        else:\n",
        "          i += 1\n",
        "        \n",
        "\n",
        "      print(valid_im_ids.shape)\n",
        "      print(shape_idxs.shape)\n",
        "      print(true_rots.shape)\n",
        "      print(bboxes.shape)\n",
        "      print(occludeds.shape)\n",
        "      print(truncateds.shape)\n",
        "      print('\\n\\n')\n",
        "      print(\"saving...\")\n",
        "\n",
        "      if split == 'train':\n",
        "        full_result_path = RESULT_PATH + 'Train/' + cls\n",
        "      else:\n",
        "        full_result_path = RESULT_PATH + 'Test/' + cls\n",
        "\n",
        "      np.save(full_result_path + '/valid_im_ids', valid_im_ids)\n",
        "      np.save(full_result_path + '/shape_idxs', shape_idxs)\n",
        "      np.save(full_result_path + '/true_rots', true_rots)\n",
        "      np.save(full_result_path + '/bboxes', bboxes)\n",
        "      np.save(full_result_path + '/images', images, allow_pickle=True)\n",
        "      np.save(full_result_path + '/occluded', occludeds)\n",
        "      np.save(full_result_path + '/truncated', truncateds)\n",
        "      \n",
        "      print(cls, 'saved \\n\\n\\n')"
      ],
      "execution_count": 0,
      "outputs": []
    }
  ]
}